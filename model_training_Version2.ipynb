{
 "cells": [
  {
   "cell_type": "markdown",
   "metadata": {},
   "source": [
    "# Long Hair Identification Model Training\n",
    "This notebook trains a model to classify gender based on hair length and age range as specified in the assignment."
   ]
  },
  {
   "cell_type": "code",
   "metadata": {},
   "source": [
    "# Imports\n",
    "import numpy as np\n",
    "import pandas as pd\n",
    "import cv2\n",
    "import matplotlib.pyplot as plt\n",
    "from tensorflow import keras\n",
    "from sklearn.model_selection import train_test_split\n",
    "from sklearn.metrics import confusion_matrix, classification_report, accuracy_score"
   ]
  },
  {
   "cell_type": "code",
   "metadata": {},
   "source": [
    "# Load and preprocess your data (implement this section based on your dataset)\n",
    "# You must have age, gender, and hair length labels\n",
    "# X, y = ... # X: images, y: [age, gender, hair_length]\n",
    "# Example: y: {'age': 25, 'gender': 'male', 'hair_length': 'long'}"
   ]
  },
  {
   "cell_type": "code",
   "metadata": {},
   "source": [
    "# Build your model (example: a simple CNN for image classification)\n",
    "model = keras.Sequential([\n",
    "    keras.layers.Conv2D(32, (3,3), activation='relu', input_shape=(64,64,3)),\n",
    "    keras.layers.MaxPooling2D(2,2),\n",
    "    keras.layers.Flatten(),\n",
    "    keras.layers.Dense(64, activation='relu'),\n",
    "    keras.layers.Dense(3, activation='softmax') # 3 classes: Male, Female, Other\n",
    "])\n",
    "\n",
    "model.compile(optimizer='adam', loss='categorical_crossentropy', metrics=['accuracy'])"
   ]
  },
  {
   "cell_type": "code",
   "metadata": {},
   "source": [
    "# Train your model\n",
    "# model.fit(X_train, y_train, epochs=10, validation_data=(X_test, y_test))"
   ]
  },
  {
   "cell_type": "code",
   "metadata": {},
   "source": [
    "# Save the trained model\n",
    "model.save('saved_model/long_hair_model.h5')"
   ]
  },
  {
   "cell_type": "code",
   "metadata": {},
   "source": [
    "# Evaluate model and print metrics\n",
    "# y_pred = model.predict(X_test)\n",
    "# print(confusion_matrix(y_test, y_pred))\n",
    "# print(classification_report(y_test, y_pred))"
   ]
  }
 ],
 "metadata": {
  "kernelspec": {
   "display_name": "Python 3",
   "language": "python",
   "name": "python3"
  },
  "language_info": {
   "name": "python",
   "version": "3.10"
  }
 },
 "nbformat": 4,
 "nbformat_minor": 5
}